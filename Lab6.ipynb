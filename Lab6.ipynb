{
 "cells": [
  {
   "cell_type": "code",
   "execution_count": 1,
   "metadata": {},
   "outputs": [
    {
     "name": "stderr",
     "output_type": "stream",
     "text": [
      "Using Theano backend.\n"
     ]
    }
   ],
   "source": [
    "import keras\n",
    "from keras.datasets import mnist\n",
    "from keras.models import Sequential\n",
    "from keras.layers import Dense, Dropout, Flatten\n",
    "from keras.layers import Conv2D, MaxPooling2D\n",
    "import numpy as np"
   ]
  },
  {
   "cell_type": "code",
   "execution_count": 3,
   "metadata": {},
   "outputs": [
    {
     "name": "stdout",
     "output_type": "stream",
     "text": [
      "x_train shape: (60000, 28, 28, 1)\n",
      "60000 train samples\n",
      "10000 test samples\n"
     ]
    }
   ],
   "source": [
    "\n",
    "num_classes = 10\n",
    "\n",
    "# input image dimensions\n",
    "img_rows, img_cols = 28, 28\n",
    "\n",
    "# the data, split between train and test sets\n",
    "(x_train, y_train), (x_test, y_test) = mnist.load_data()\n",
    "\n",
    "x_train = x_train.reshape(60000,28,28,1)\n",
    "x_test = x_test.reshape(10000,28,28,1)\n",
    "\n",
    "print('x_train shape:', x_train.shape)\n",
    "print(x_train.shape[0], 'train samples')\n",
    "print(x_test.shape[0], 'test samples')\n",
    "\n",
    "# convert class vectors to binary class matrices\n",
    "y_train = keras.utils.to_categorical(y_train, num_classes)\n",
    "y_test = keras.utils.to_categorical(y_test, num_classes)"
   ]
  },
  {
   "cell_type": "code",
   "execution_count": 8,
   "metadata": {},
   "outputs": [
    {
     "name": "stdout",
     "output_type": "stream",
     "text": [
      "Epoch 1/10\n",
      "1000/1000 [==============================] - 0s 29us/step - loss: 0.7065 - acc: 0.4870\n",
      "Epoch 2/10\n",
      "1000/1000 [==============================] - 0s 23us/step - loss: 0.6970 - acc: 0.5060\n",
      "Epoch 3/10\n",
      "1000/1000 [==============================] - 0s 29us/step - loss: 0.6917 - acc: 0.5320\n",
      "Epoch 4/10\n",
      "1000/1000 [==============================] - 0s 41us/step - loss: 0.6875 - acc: 0.5360\n",
      "Epoch 5/10\n",
      "1000/1000 [==============================] - 0s 23us/step - loss: 0.6803 - acc: 0.5670\n",
      "Epoch 6/10\n",
      "1000/1000 [==============================] - 0s 31us/step - loss: 0.6809 - acc: 0.5690\n",
      "Epoch 7/10\n",
      "1000/1000 [==============================] - 0s 36us/step - loss: 0.6780 - acc: 0.5770\n",
      "Epoch 8/10\n",
      "1000/1000 [==============================] - 0s 31us/step - loss: 0.6731 - acc: 0.5890\n",
      "Epoch 9/10\n",
      "1000/1000 [==============================] - 0s 24us/step - loss: 0.6699 - acc: 0.6120\n",
      "Epoch 10/10\n",
      "1000/1000 [==============================] - 0s 34us/step - loss: 0.6663 - acc: 0.6100\n"
     ]
    },
    {
     "data": {
      "text/plain": [
       "<keras.callbacks.History at 0x1168d6e80>"
      ]
     },
     "execution_count": 8,
     "metadata": {},
     "output_type": "execute_result"
    }
   ],
   "source": [
    "model = Sequential()\n",
    "model.add(Dense(32, activation='relu', input_dim=100))\n",
    "model.add(Dense(1, activation='sigmoid'))\n",
    "model.compile(optimizer='rmsprop',\n",
    "              loss='binary_crossentropy',\n",
    "              metrics=['accuracy'])\n",
    "\n",
    "data = np.random.random((1000, 100))\n",
    "labels = np.random.randint(2, size=(1000, 1))\n",
    "\n",
    "# Train the model, iterating on the data in batches of 32 samples\n",
    "model.fit(data, labels, epochs=10, batch_size=32)"
   ]
  },
  {
   "cell_type": "code",
   "execution_count": 6,
   "metadata": {},
   "outputs": [
    {
     "name": "stdout",
     "output_type": "stream",
     "text": [
      "Train on 60000 samples, validate on 10000 samples\n",
      "Epoch 1/12\n",
      "60000/60000 [==============================] - 188s 3ms/step - loss: 3.0638 - acc: 0.7581 - val_loss: 0.0735 - val_acc: 0.9771\n",
      "Epoch 2/12\n",
      "60000/60000 [==============================] - 178s 3ms/step - loss: 0.1178 - acc: 0.9656 - val_loss: 0.0596 - val_acc: 0.9808\n",
      "Epoch 3/12\n",
      "60000/60000 [==============================] - 172s 3ms/step - loss: 0.0834 - acc: 0.9757 - val_loss: 0.0433 - val_acc: 0.9860\n",
      "Epoch 4/12\n",
      "60000/60000 [==============================] - 171s 3ms/step - loss: 0.0673 - acc: 0.9804 - val_loss: 0.0445 - val_acc: 0.9859\n",
      "Epoch 5/12\n",
      "60000/60000 [==============================] - 177s 3ms/step - loss: 0.0589 - acc: 0.9830 - val_loss: 0.0349 - val_acc: 0.9889\n",
      "Epoch 6/12\n",
      "60000/60000 [==============================] - 171s 3ms/step - loss: 0.0504 - acc: 0.9854 - val_loss: 0.0357 - val_acc: 0.9885\n",
      "Epoch 7/12\n",
      "60000/60000 [==============================] - 173s 3ms/step - loss: 0.0444 - acc: 0.9874 - val_loss: 0.0381 - val_acc: 0.9886\n",
      "Epoch 8/12\n",
      "60000/60000 [==============================] - 182s 3ms/step - loss: 0.0419 - acc: 0.9878 - val_loss: 0.0397 - val_acc: 0.9887\n",
      "Epoch 9/12\n",
      "60000/60000 [==============================] - 197s 3ms/step - loss: 0.0360 - acc: 0.9889 - val_loss: 0.0334 - val_acc: 0.9902\n",
      "Epoch 10/12\n",
      "60000/60000 [==============================] - 180s 3ms/step - loss: 0.0325 - acc: 0.9901 - val_loss: 0.0439 - val_acc: 0.9889\n",
      "Epoch 11/12\n",
      "60000/60000 [==============================] - 181s 3ms/step - loss: 0.0318 - acc: 0.9907 - val_loss: 0.0323 - val_acc: 0.9912\n",
      "Epoch 12/12\n",
      "60000/60000 [==============================] - 169s 3ms/step - loss: 0.0284 - acc: 0.9915 - val_loss: 0.0346 - val_acc: 0.9905\n",
      "Test loss: 0.034586130229837274\n",
      "Test accuracy: 0.9905\n"
     ]
    }
   ],
   "source": [
    "batch_size = 128\n",
    "epochs = 12\n",
    "\n",
    "model = Sequential()\n",
    "model.add(Conv2D(32, kernel_size=(3, 3),\n",
    "                 activation='relu',\n",
    "                 input_shape=(28,28,1)))\n",
    "model.add(Conv2D(64, (3, 3), activation='relu'))\n",
    "model.add(MaxPooling2D(pool_size=(2, 2)))\n",
    "model.add(Dropout(0.25))\n",
    "model.add(Flatten())\n",
    "model.add(Dense(128, activation='relu'))\n",
    "model.add(Dropout(0.5))\n",
    "model.add(Dense(num_classes, activation='softmax'))\n",
    "\n",
    "\n",
    "model.compile(loss=keras.losses.categorical_crossentropy,\n",
    "              optimizer=keras.optimizers.Adadelta(),\n",
    "              metrics=['accuracy'])\n",
    "\n",
    "model.fit(x_train, y_train,\n",
    "          batch_size=batch_size,\n",
    "          epochs=epochs,\n",
    "          verbose=1,\n",
    "          validation_data=(x_test, y_test))\n",
    "score = model.evaluate(x_test, y_test, verbose=0)\n",
    "print('Test loss:', score[0])\n",
    "print('Test accuracy:', score[1])"
   ]
  },
  {
   "cell_type": "markdown",
   "metadata": {},
   "source": [
    "Utilice ahora la misma red neuronal pero con el dataset Fashion-MNIST (https://keras.io/datasets/#fashion-mnist-database-of-fashion-articles) y compare resultados."
   ]
  },
  {
   "cell_type": "code",
   "execution_count": null,
   "metadata": {},
   "outputs": [],
   "source": []
  },
  {
   "cell_type": "code",
   "execution_count": null,
   "metadata": {},
   "outputs": [],
   "source": []
  }
 ],
 "metadata": {
  "kernelspec": {
   "display_name": "Python 3",
   "language": "python",
   "name": "python3"
  },
  "language_info": {
   "codemirror_mode": {
    "name": "ipython",
    "version": 3
   },
   "file_extension": ".py",
   "mimetype": "text/x-python",
   "name": "python",
   "nbconvert_exporter": "python",
   "pygments_lexer": "ipython3",
   "version": "3.7.0"
  }
 },
 "nbformat": 4,
 "nbformat_minor": 2
}
